{
 "cells": [
  {
   "cell_type": "markdown",
   "metadata": {
    "collapsed": false
   },
   "source": [
    "# Analyze satellite imagery from Planet.com"
   ]
  },
  {
   "cell_type": "markdown",
   "metadata": {
    "collapsed": false
   },
   "source": [
    "## Imports"
   ]
  },
  {
   "cell_type": "code",
   "execution_count": null,
   "id": "eabb6d35",
   "metadata": {},
   "outputs": [],
   "source": [
    "%cd c:/Users/ekino/OneDrive - UW/SatMobFusion"
   ]
  },
  {
   "cell_type": "code",
   "execution_count": null,
   "metadata": {
    "collapsed": false
   },
   "outputs": [],
   "source": [
    "import matplotlib.pyplot as plt\n",
    "from matplotlib_scalebar.scalebar import ScaleBar\n",
    "import numpy as np\n",
    "import pandas as pd\n",
    "import pyproj\n",
    "\n",
    "import satmobfusion.convenience as c\n",
    "\n",
    "import rasterio as rio\n",
    "import rasterio.plot"
   ]
  },
  {
   "cell_type": "code",
   "execution_count": null,
   "metadata": {
    "collapsed": false
   },
   "outputs": [],
   "source": [
    "from config import init\n",
    "init.run()"
   ]
  },
  {
   "cell_type": "markdown",
   "metadata": {
    "collapsed": false
   },
   "source": [
    "## Read-in config file containing information about the different locations/events"
   ]
  },
  {
   "cell_type": "code",
   "execution_count": null,
   "metadata": {
    "collapsed": false
   },
   "outputs": [],
   "source": [
    "locs = pd.read_csv(\"config/locations.csv\", index_col=\"location\")\n",
    "locs"
   ]
  },
  {
   "cell_type": "code",
   "execution_count": null,
   "metadata": {
    "collapsed": false
   },
   "outputs": [],
   "source": [
    "# location = \"Tulsa\"\n",
    "location = \"Tulsa_small\"\n",
    "# location = \"Champaign\""
   ]
  },
  {
   "cell_type": "code",
   "execution_count": null,
   "metadata": {
    "collapsed": false
   },
   "outputs": [],
   "source": [
    "folder = \"data/satellite/\"+location+\"/\""
   ]
  },
  {
   "cell_type": "markdown",
   "metadata": {
    "collapsed": false
   },
   "source": [
    "## Read-in satellite images"
   ]
  },
  {
   "cell_type": "code",
   "execution_count": null,
   "metadata": {
    "collapsed": false
   },
   "outputs": [],
   "source": [
    "fn_pre = locs.loc[location, \"fn_satellite_pre\"]\n",
    "fn_post = locs.loc[location, \"fn_satellite_post\"]"
   ]
  },
  {
   "cell_type": "code",
   "execution_count": null,
   "id": "234bafae",
   "metadata": {},
   "outputs": [],
   "source": [
    "src_pre = rio.open(folder+fn_pre)\n",
    "src_post = rio.open(folder+fn_post)"
   ]
  },
  {
   "cell_type": "code",
   "execution_count": null,
   "id": "968f5f34",
   "metadata": {},
   "outputs": [],
   "source": [
    "#print some metadata about the images\n",
    "src = src_pre\n",
    "# src = src_post\n",
    "\n",
    "# src.profile\n",
    "# src.meta\n",
    "# src.crs\n",
    "src.crs.to_proj4()\n",
    "# src.bounds\n",
    "# src.nodata\n",
    "# src.count #number of bands"
   ]
  },
  {
   "cell_type": "markdown",
   "metadata": {
    "collapsed": false
   },
   "source": [
    "## Extract plotting window"
   ]
  },
  {
   "cell_type": "code",
   "execution_count": null,
   "metadata": {
    "collapsed": false
   },
   "outputs": [],
   "source": [
    "#window as given in locs\n",
    "lon_min,lon_max,lat_min,lat_max = locs.loc[location, [\"lon_min\",\"lon_max\",\"lat_min\",\"lat_max\"]]\n",
    "print(lon_min,lon_max,lat_min,lat_max)\n",
    "\n",
    "#convert the window to the CRS of the satellite image\n",
    "inProj = pyproj.Proj(init='epsg:4326') #geog. CRS\n",
    "# outProj = Proj(init='epsg:3857') #web mercator\n",
    "outProj = pyproj.Proj(src.crs.to_proj4())\n",
    "x_min,y_min = pyproj.transform(inProj,outProj,lon_min,lat_min)\n",
    "x_max,y_max = pyproj.transform(inProj,outProj,lon_max,lat_max)\n",
    "x_min,y_min,x_max,y_max"
   ]
  },
  {
   "cell_type": "code",
   "execution_count": null,
   "metadata": {
    "collapsed": false
   },
   "outputs": [],
   "source": [
    "window_pre = rio.windows.from_bounds(x_min,y_min,x_max,y_max, src_pre.transform)\n",
    "window_post = rio.windows.from_bounds(x_min,y_min,x_max,y_max, src_post.transform)\n",
    "window_pre,window_post"
   ]
  },
  {
   "cell_type": "code",
   "execution_count": null,
   "metadata": {
    "collapsed": false
   },
   "outputs": [],
   "source": [
    "window_bounds_pre = rasterio.windows.bounds(window_pre, src.transform)\n",
    "window_bounds_post = rasterio.windows.bounds(window_post, src.transform)\n",
    "print(\"Window bounds (pre): \", window_bounds_pre)\n",
    "print(\"Window bounds (post): \", window_bounds_post)\n",
    "\n",
    "#Define window extent (for us in imshow())\n",
    "window_extent_pre = [window_bounds_pre[0], window_bounds_pre[2], window_bounds_pre[1], window_bounds_pre[3]]\n",
    "window_extent_post = [window_bounds_post[0], window_bounds_post[2], window_bounds_post[1], window_bounds_post[3]]\n",
    "print(\"Window extent (pre): \", window_extent_pre)\n",
    "print(\"Window extent (post): \", window_extent_post)"
   ]
  },
  {
   "cell_type": "code",
   "execution_count": null,
   "metadata": {
    "collapsed": false
   },
   "outputs": [],
   "source": [
    "img_full_extent_pre = rio.plot.plotting_extent(src_pre)\n",
    "img_full_extent_post = rio.plot.plotting_extent(src_post)\n",
    "img_full_extent_pre,img_full_extent_post"
   ]
  },
  {
   "cell_type": "markdown",
   "metadata": {
    "collapsed": false
   },
   "source": [
    "## Read image from rasterio object"
   ]
  },
  {
   "cell_type": "code",
   "execution_count": null,
   "id": "aee02af4",
   "metadata": {},
   "outputs": [],
   "source": [
    "img_pre = src_pre.read((1,2,3,4), window=window_pre, masked=True)\n",
    "img_post = src_post.read((1,2,3,4), window=window_post, masked=True)"
   ]
  },
  {
   "cell_type": "code",
   "execution_count": null,
   "metadata": {
    "collapsed": false
   },
   "outputs": [],
   "source": [
    "img_pre\n",
    "# img_post"
   ]
  },
  {
   "cell_type": "code",
   "execution_count": null,
   "id": "f3050841",
   "metadata": {},
   "outputs": [],
   "source": [
    "img_pre.shape"
   ]
  },
  {
   "cell_type": "code",
   "execution_count": null,
   "id": "0237a6c3",
   "metadata": {},
   "outputs": [],
   "source": [
    "src.width,src.height"
   ]
  },
  {
   "cell_type": "code",
   "execution_count": null,
   "id": "86fc8a9e",
   "metadata": {},
   "outputs": [],
   "source": [
    "img_pre.dtype"
   ]
  },
  {
   "cell_type": "markdown",
   "metadata": {
    "collapsed": false
   },
   "source": [
    "## Derive RGB difference, NDVI, and grayscale images"
   ]
  },
  {
   "cell_type": "code",
   "execution_count": null,
   "metadata": {
    "collapsed": false
   },
   "outputs": [],
   "source": [
    "img_diff = img_post.astype(\"int16\") - img_pre.astype(\"int16\")"
   ]
  },
  {
   "cell_type": "code",
   "execution_count": null,
   "metadata": {
    "collapsed": false
   },
   "outputs": [],
   "source": [
    "img_diff"
   ]
  },
  {
   "cell_type": "code",
   "execution_count": null,
   "metadata": {
    "collapsed": false
   },
   "outputs": [],
   "source": [
    "#calculate grayscale image from RGB\n",
    "img_pre_gray = 0.3*img_pre[0] + 0.59*img_pre[1] + 0.11*img_pre[2]\n",
    "img_post_gray = 0.3*img_post[0] + 0.59*img_post[1] + 0.11*img_post[2]\n",
    "img_diff_gray = img_post_gray - img_pre_gray"
   ]
  },
  {
   "cell_type": "code",
   "execution_count": null,
   "metadata": {
    "collapsed": false
   },
   "outputs": [],
   "source": [
    "#calculate NDVI for pre and post from NIR and Red bands\n",
    "img_pre_ndvi = (img_pre[3] - img_pre[0]) / (img_pre[3] + img_pre[0])\n",
    "img_post_ndvi = (img_post[3] - img_post[0]) / (img_post[3] + img_post[0])\n",
    "img_diff_ndvi = img_post_ndvi - img_pre_ndvi"
   ]
  },
  {
   "cell_type": "code",
   "execution_count": null,
   "metadata": {
    "collapsed": false
   },
   "outputs": [],
   "source": [
    "img_pre_ndvi.shape"
   ]
  },
  {
   "cell_type": "code",
   "execution_count": null,
   "id": "462657af",
   "metadata": {},
   "outputs": [],
   "source": [
    "img_pre.mean(),img_pre.min(),img_pre.max()"
   ]
  },
  {
   "cell_type": "code",
   "execution_count": null,
   "id": "88012490",
   "metadata": {},
   "outputs": [],
   "source": [
    "# reshape images for plotting purposes\n",
    "img_pre_vis_reshaped = np.dstack([img_pre[i] for i in range(3)])\n",
    "img_post_vis_reshaped = np.dstack([img_post[i] for i in range(3)])\n",
    "img_pre_vis_reshaped.shape"
   ]
  },
  {
   "cell_type": "markdown",
   "id": "702be42f",
   "metadata": {},
   "source": [
    "## Create maps"
   ]
  },
  {
   "cell_type": "markdown",
   "metadata": {
    "collapsed": false
   },
   "source": [
    "### Visual spectrum maps"
   ]
  },
  {
   "cell_type": "code",
   "execution_count": null,
   "id": "b4c4dcdd",
   "metadata": {},
   "outputs": [],
   "source": [
    "fig,ax = plt.subplots()\n",
    "ax.imshow(img_pre_vis_reshaped, extent=window_extent_pre)\n",
    "# ax.imshow(img_post_vis_reshaped, extent=window_extent_pre) ##extent=window_extent_pre will plot the same, just with the axes labeled with regards to the post image's coordinates (but the picture still aligns with pre)\n",
    "# ax.imshow(img_diff_vis_reshaped, extent=window_extent_pre)\n",
    "\n",
    "ax.add_artist(ScaleBar(1.0))\n",
    "\n",
    "c.save_figure(fig, f\"maps/{location}/\"+\"vis_.png\", dpi=200)"
   ]
  },
  {
   "cell_type": "markdown",
   "metadata": {
    "collapsed": false
   },
   "source": [
    "### Gray maps"
   ]
  },
  {
   "cell_type": "code",
   "execution_count": null,
   "metadata": {
    "collapsed": false
   },
   "outputs": [],
   "source": [
    "fig,ax = plt.subplots()\n",
    "# pos = ax.imshow(img_pre_gray, extent=window_extent_pre, cmap=\"gray\", vmin=np.nanpercentile(np.ma.filled(img_pre_gray, np.nan), 1), vmax=np.nanpercentile(np.ma.filled(img_pre_gray, np.nan), 99))\n",
    "# pos = ax.imshow(img_post_gray, extent=window_extent_pre, cmap=\"gray\", vmin=np.nanpercentile(np.ma.filled(img_pre_gray, np.nan), 1), vmax=np.nanpercentile(np.ma.filled(img_pre_gray, np.nan), 99))\n",
    "pos = ax.imshow(img_diff_gray, extent=window_extent_pre, cmap=\"gray\", vmin=np.nanpercentile(np.ma.filled(img_diff_gray, np.nan), 1), vmax=np.nanpercentile(np.ma.filled(img_diff_gray, np.nan), 99))\n",
    "\n",
    "ax.add_artist(ScaleBar(1.0))\n",
    "fig.colorbar(pos, ax=ax, fraction=0.046, label=\"Luminosity\", extend=\"both\")\n",
    "\n",
    "c.save_figure(fig, f\"maps/{location}/\"+\"gray_.png\", dpi=200)"
   ]
  },
  {
   "cell_type": "markdown",
   "metadata": {
    "collapsed": false
   },
   "source": [
    "### NDVI maps"
   ]
  },
  {
   "cell_type": "code",
   "execution_count": null,
   "metadata": {
    "collapsed": false
   },
   "outputs": [],
   "source": [
    "fig,ax = plt.subplots()\n",
    "# pos = ax.imshow(img_pre_ndvi, extent=window_extent_pre, cmap=\"RdYlGn\", vmin=np.nanpercentile(np.ma.filled(img_pre_ndvi, np.nan), 1), vmax=np.nanpercentile(np.ma.filled(img_pre_ndvi, np.nan), 99))\n",
    "# pos = ax.imshow(img_post_ndvi, extent=window_extent_pre, cmap=\"RdYlGn\", vmin=np.nanpercentile(np.ma.filled(img_pre_ndvi, np.nan), 1), vmax=np.nanpercentile(np.ma.filled(img_pre_ndvi, np.nan), 99))\n",
    "pos = ax.imshow(img_diff_ndvi, extent=window_extent_pre, cmap=\"RdYlGn\", vmin=np.nanpercentile(np.ma.filled(img_diff_ndvi, np.nan), 1), vmax=np.nanpercentile(np.ma.filled(img_diff_ndvi, np.nan), 99))\n",
    "# ax.imshow(img_post_ndvi, extent=window_extent_pre)\n",
    "\n",
    "# ax.imshow(r_reshaped)\n",
    "ax.add_artist(ScaleBar(1.0))\n",
    "fig.colorbar(pos, ax=ax, fraction=0.046, label=\"NDVI\", extend=\"both\")\n",
    "\n",
    "c.save_figure(fig, f\"maps/{location}/\"+\"NDVI_.png\", dpi=200)"
   ]
  },
  {
   "cell_type": "markdown",
   "metadata": {
    "collapsed": false
   },
   "source": [
    "## Analyze differences"
   ]
  },
  {
   "cell_type": "code",
   "execution_count": null,
   "metadata": {
    "collapsed": false
   },
   "outputs": [],
   "source": [
    "img_diff.min()"
   ]
  },
  {
   "cell_type": "markdown",
   "metadata": {
    "collapsed": false
   },
   "source": [
    "### Histogram of change values"
   ]
  },
  {
   "cell_type": "code",
   "execution_count": null,
   "metadata": {
    "collapsed": false
   },
   "outputs": [],
   "source": [
    "fig,ax = plt.subplots()\n",
    "# log = True\n",
    "log = False\n",
    "# ax.hist(img_diff.compressed(), bins=256, log=log)\n",
    "# ax.hist(img_diff_gray.compressed(), bins=256, log=log)\n",
    "ax.hist(img_diff_ndvi.compressed(), bins=256, log=log)\n",
    "ax.axvline(0, color=\"black\")\n",
    "c.save_figure(fig, f\"maps/{location}/\"+\"hist_diff.png\", dpi=200)"
   ]
  },
  {
   "cell_type": "code",
   "execution_count": null,
   "metadata": {
    "collapsed": false
   },
   "outputs": [],
   "source": [
    "fig,axs = plt.subplots(1, 3, figsize=(16,12))\n",
    "\n",
    "pos_red   = axs[0].imshow(img_diff[0], extent=window_extent_pre, cmap=\"BrBG\")\n",
    "pos_green = axs[1].imshow(img_diff[1], extent=window_extent_pre, cmap=\"BrBG\")\n",
    "pos_blue  = axs[2].imshow(img_diff[2], extent=window_extent_pre, cmap=\"BrBG\")\n",
    "\n",
    "axs[0].set_title(\"Reds\", color=\"crimson\")\n",
    "axs[1].set_title(\"Greens\", color=\"darkgreen\")\n",
    "axs[2].set_title(\"Blues\", color=\"darkblue\")\n",
    "\n",
    "fig.colorbar(pos_red, ax=axs[0], fraction=0.032)\n",
    "fig.colorbar(pos_green, ax=axs[1], fraction=0.032)\n",
    "fig.colorbar(pos_blue, ax=axs[2], fraction=0.032)\n",
    "\n",
    "fig.subplots_adjust(wspace=0.45)\n",
    "c.save_figure(fig, f\"maps/{location}/\"+\"diff_bands.png\", dpi=200)"
   ]
  },
  {
   "cell_type": "code",
   "execution_count": null,
   "metadata": {
    "collapsed": false
   },
   "outputs": [],
   "source": []
  }
 ],
 "metadata": {
  "kernelspec": {
   "display_name": "Python 3 (ipykernel)",
   "language": "python",
   "name": "python3"
  },
  "language_info": {
   "codemirror_mode": {
    "name": "ipython",
    "version": 3
   },
   "file_extension": ".py",
   "mimetype": "text/x-python",
   "name": "python",
   "nbconvert_exporter": "python",
   "pygments_lexer": "ipython3",
   "version": "3.9.16"
  }
 },
 "nbformat": 4,
 "nbformat_minor": 5
}
