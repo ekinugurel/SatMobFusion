{
 "cells": [
  {
   "attachments": {},
   "cell_type": "markdown",
   "metadata": {},
   "source": [
    "# Mapping the geographical extent of mobile data reach"
   ]
  },
  {
   "cell_type": "code",
   "execution_count": null,
   "metadata": {},
   "outputs": [],
   "source": [
    "import geopandas as gpd\n",
    "import matplotlib.pyplot as plt\n",
    "import pandas as pd"
   ]
  },
  {
   "cell_type": "code",
   "execution_count": null,
   "metadata": {},
   "outputs": [],
   "source": [
    "states_url = 'http://eric.clst.org/assets/wiki/uploads/Stuff/gz_2010_us_040_00_5m.json'\n",
    "#states_url = 'http://eric.clst.org/assets/wiki/uploads/Stuff/gz_2010_us_040_00_500k.json'\n",
    "states_gdf = gpd.read_file(states_url)"
   ]
  },
  {
   "cell_type": "code",
   "execution_count": null,
   "metadata": {},
   "outputs": [],
   "source": [
    "# Reproject to UTM Zone 11N\n",
    "states_gdf.to_crs('EPSG:26911')\n",
    "\n",
    "# Limit to lower 48 states\n",
    "idx = states_gdf['NAME'].isin(['Alaska', 'Hawaii', 'Puerto Rico', 'Guam', 'Virgin Islands', 'American Samoa', 'Northern Mariana Islands'])\n",
    "states_gdf = states_gdf[~idx]"
   ]
  },
  {
   "cell_type": "code",
   "execution_count": null,
   "metadata": {},
   "outputs": [],
   "source": [
    "# Define lat/longs of the specific cities in Spectus data\n",
    "cities = gpd.GeoDataFrame({\n",
    "    'city': ['Fresno', 'Sebring', 'Tyler', 'Cheyenne', 'Tulsa', 'New York', 'Los Angeles', 'Seattle', 'Baltimore', 'Boston', 'Champaign'], \n",
    "    'state': ['CA', 'FL', 'TX', 'WY', 'OK', 'NY', 'CA', 'WA', 'MD', 'MA', 'IL'], \n",
    "    'lat': [36.7468, 27.4956, 32.3513, 41.1400, 36.1539, 40.7128, 34.0522, 47.6062, 39.2904, 42.3601, 40.1164], \n",
    "    'long': [-119.7726, -81.4409, -95.3011, -104.8202, -95.9928, -74.0060, -118.2437, -122.3321, -76.6122, -71.0589, -88.2434]\n",
    "}, geometry=gpd.points_from_xy(cities.long, cities.lat))"
   ]
  },
  {
   "cell_type": "code",
   "execution_count": null,
   "metadata": {},
   "outputs": [],
   "source": [
    "cities.crs = {'init': 'epsg:4326'}"
   ]
  },
  {
   "cell_type": "code",
   "execution_count": null,
   "metadata": {},
   "outputs": [],
   "source": [
    "f, ax = plt.subplots(figsize=(14, 10))\n",
    "states_gdf.plot(ax=ax, facecolor='white', edgecolor='k')\n",
    "cities.plot(ax=ax, marker='x', color='red', markersize=90)\n",
    "\n",
    "plt.title('Spectus Cities')\n",
    "\n",
    "# Set axis titles\n",
    "ax.set_xlabel('Longitude')\n",
    "ax.set_ylabel('Latitude')\n",
    "\n",
    "# Make title font larger\n",
    "ax.title.set_fontsize(20)\n",
    "\n",
    "# Give dark background to plot\n",
    "ax.set_facecolor('black')"
   ]
  }
 ],
 "metadata": {
  "kernelspec": {
   "display_name": "Python 3",
   "language": "python",
   "name": "python3"
  },
  "language_info": {
   "codemirror_mode": {
    "name": "ipython",
    "version": 3
   },
   "file_extension": ".py",
   "mimetype": "text/x-python",
   "name": "python",
   "nbconvert_exporter": "python",
   "pygments_lexer": "ipython3",
   "version": "3.10.8"
  },
  "orig_nbformat": 4,
  "vscode": {
   "interpreter": {
    "hash": "be8ce0fae4df8250216a2469fba68136b33ec788d444f54209a47ad6649aede7"
   }
  }
 },
 "nbformat": 4,
 "nbformat_minor": 2
}
